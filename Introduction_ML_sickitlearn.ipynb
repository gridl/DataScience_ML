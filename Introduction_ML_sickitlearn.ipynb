{
 "cells": [
  {
   "cell_type": "markdown",
   "metadata": {},
   "source": [
    "# <font color = '#3D7782'> Introduction to machine learning with Python\n",
    "</font>"
   ]
  },
  {
   "cell_type": "markdown",
   "metadata": {},
   "source": [
    "This intial session will focus on the basics of `Scikit-Learn` a popular Python package containing multiple machine learning tools ( http://scikit-learn.org)."
   ]
  },
  {
   "cell_type": "markdown",
   "metadata": {},
   "source": [
    "## <font color='#A6CFCF'>Main goal  </font>"
   ]
  },
  {
   "cell_type": "markdown",
   "metadata": {},
   "source": [
    "This mini tutorial will introduce the main concepts of machine learnign, and how they can be implemented using the Sickit-Learn package in Python."
   ]
  },
  {
   "cell_type": "markdown",
   "metadata": {},
   "source": [
    "## <font color='#A6CFCF'> Pre-requisites</font>\n"
   ]
  },
  {
   "cell_type": "markdown",
   "metadata": {},
   "source": [
    "The following packages are required:\n",
    "* Python version 3.5\n",
    "* `numpy` version 1.12 or later\n",
    "* `scipy` version 0.19 or later\n",
    "* `seaborn` veriosn 0.7 or later\n",
    "* `pandas` version 0.19 or later\n",
    "\n",
    "All of these packages can be easily to get using the [conda](https://www.continuum.io/why-anaconda) environment manager. Thus instllin this is highly advisable.\n",
    "\n",
    "Additionally the use of virtual environments is suggested."
   ]
  },
  {
   "cell_type": "markdown",
   "metadata": {},
   "source": [
    "## <font color='#A6CFCF'> Verify your environment </font>\n",
    "\n",
    "You can run the following code to check the packages in your system."
   ]
  },
  {
   "cell_type": "code",
   "execution_count": 5,
   "metadata": {},
   "outputs": [
    {
     "name": "stdout",
     "output_type": "stream",
     "text": [
      "scipy: 0.18.1\n",
      "numpy: 1.11.3\n",
      "matplotlib: 2.0.0\n",
      "pandas: 0.19.2\n",
      "seaborn: 0.7.1\n",
      "sklearn: 0.18.1\n"
     ]
    }
   ],
   "source": [
    "# scipy \n",
    "import scipy \n",
    "print('scipy: %s' % scipy.__version__) \n",
    "# numpy \n",
    "import numpy \n",
    "print('numpy: %s' % numpy.__version__) \n",
    "# matplotlib \n",
    "import matplotlib \n",
    "print('matplotlib: %s' % matplotlib.__version__) \n",
    "# pandas \n",
    "import pandas \n",
    "print('pandas: %s' % pandas.__version__) \n",
    "# statsmodels \n",
    "import seaborn\n",
    "print('seaborn: %s' % seaborn.__version__) \n",
    "# scikit-learn \n",
    "import sklearn \n",
    "print('sklearn: %s' % sklearn.__version__)"
   ]
  },
  {
   "cell_type": "markdown",
   "metadata": {},
   "source": [
    "## <font color='#A6CFCF'> About Scikit-Learn </font>\n",
    "\n",
    "[Scikit-Learn[(https://github.com/scikit-learn/scikit-learn) is a Python package designed to give access to well-known machine learning algorithms within Python code, through a clean, well-thought-out API. It has been built by hundreds of contributors from around the world, and is used across industry and academia.\n",
    "\n",
    "Scikit-Learn is built upon Python's NumPy (Numerical Python) and SciPy (Scientific Python) libraries, which enable efficient in-core numerical and scientific computation within Python. As such, scikit-learn is not specifically designed for extremely large datasets, though there is some work in this area."
   ]
  },
  {
   "cell_type": "code",
   "execution_count": 7,
   "metadata": {
    "collapsed": true
   },
   "outputs": [],
   "source": [
    "## <font color='#A6CFCF'> About Machine Learning </font>"
   ]
  },
  {
   "cell_type": "code",
   "execution_count": null,
   "metadata": {
    "collapsed": true
   },
   "outputs": [],
   "source": []
  }
 ],
 "metadata": {
  "kernelspec": {
   "display_name": "Python [default]",
   "language": "python",
   "name": "python3"
  },
  "language_info": {
   "codemirror_mode": {
    "name": "ipython",
    "version": 3
   },
   "file_extension": ".py",
   "mimetype": "text/x-python",
   "name": "python",
   "nbconvert_exporter": "python",
   "pygments_lexer": "ipython3",
   "version": "3.5.3"
  }
 },
 "nbformat": 4,
 "nbformat_minor": 2
}
